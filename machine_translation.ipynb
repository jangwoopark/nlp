{
 "cells": [
  {
   "cell_type": "markdown",
   "metadata": {
    "collapsed": true
   },
   "source": [
    "# Artificial Intelligence Nanodegree\n",
    "## Machine Translation Project\n",
    "In this notebook, sections that end with **'(IMPLEMENTATION)'** in the header indicate that the following blocks of code will require additional functionality which you must provide. Please be sure to read the instructions carefully!\n",
    "\n",
    "## Introduction\n",
    "In this notebook, you will build a deep neural network that functions as part of an end-to-end machine translation pipeline. Your completed pipeline will accept English text as input and return the French translation.\n",
    "\n",
    "- **Preprocess** - You'll convert text to sequence of integers.\n",
    "- **Models** Create models which accepts a sequence of integers as input and returns a probability distribution over possible translations. After learning about the basic types of neural networks that are often used for machine translation, you will engage in your own investigations, to design your own model!\n",
    "- **Prediction** Run the model on English text.\n",
    "\n",
    "## Dataset\n",
    "We begin by investigating the dataset that will be used to train and evaluate your pipeline.  The most common datasets used for machine translation are from [WMT](http://www.statmt.org/).  However, that will take a long time to train a neural network on.  We'll be using a dataset we created for this project that contains a small vocabulary.  You'll be able to train your model in a reasonable time with this dataset.\n",
    "### Load Data\n",
    "The data is located in `data/small_vocab_en` and `data/small_vocab_fr`. The `small_vocab_en` file contains English sentences with their French translations in the `small_vocab_fr` file. Load the English and French data from these files from running the cell below."
   ]
  },
  {
   "cell_type": "code",
   "execution_count": 50,
   "metadata": {},
   "outputs": [
    {
     "name": "stdout",
     "output_type": "stream",
     "text": [
      "Dataset Loaded\n"
     ]
    }
   ],
   "source": [
    "import helper\n",
    "\n",
    "# Load English data\n",
    "english_sentences = helper.load_data('data/small_vocab_en')\n",
    "# Load French data\n",
    "french_sentences = helper.load_data('data/small_vocab_fr')\n",
    "\n",
    "print('Dataset Loaded')"
   ]
  },
  {
   "cell_type": "markdown",
   "metadata": {},
   "source": [
    "### Files\n",
    "Each line in `small_vocab_en` contains an English sentence with the respective translation in each line of `small_vocab_fr`.  View the first two lines from each file."
   ]
  },
  {
   "cell_type": "code",
   "execution_count": 51,
   "metadata": {
    "scrolled": false
   },
   "outputs": [
    {
     "name": "stdout",
     "output_type": "stream",
     "text": [
      "small_vocab_en Line 1:  new jersey is sometimes quiet during autumn , and it is snowy in april .\n",
      "small_vocab_fr Line 1:  new jersey est parfois calme pendant l' automne , et il est neigeux en avril .\n",
      "small_vocab_en Line 2:  the united states is usually chilly during july , and it is usually freezing in november .\n",
      "small_vocab_fr Line 2:  les états-unis est généralement froid en juillet , et il gèle habituellement en novembre .\n"
     ]
    }
   ],
   "source": [
    "for sample_i in range(2):\n",
    "    print('small_vocab_en Line {}:  {}'.format(sample_i + 1, english_sentences[sample_i]))\n",
    "    print('small_vocab_fr Line {}:  {}'.format(sample_i + 1, french_sentences[sample_i]))"
   ]
  },
  {
   "cell_type": "markdown",
   "metadata": {},
   "source": [
    "From looking at the sentences, you can see they have been preprocessed already.  The puncuations have been delimited using spaces. All the text have been converted to lowercase.  This should save you some time, but the text requires more preprocessing.\n",
    "### Vocabulary\n",
    "The complexity of the problem is determined by the complexity of the vocabulary.  A more complex vocabulary is a more complex problem.  Let's look at the complexity of the dataset we'll be working with."
   ]
  },
  {
   "cell_type": "code",
   "execution_count": 52,
   "metadata": {},
   "outputs": [
    {
     "name": "stdout",
     "output_type": "stream",
     "text": [
      "1823250 English words.\n",
      "227 unique English words.\n",
      "10 Most common words in the English dataset:\n",
      "\"is\" \",\" \".\" \"in\" \"it\" \"during\" \"the\" \"but\" \"and\" \"sometimes\"\n",
      "\n",
      "1961295 French words.\n",
      "355 unique French words.\n",
      "10 Most common words in the French dataset:\n",
      "\"est\" \".\" \",\" \"en\" \"il\" \"les\" \"mais\" \"et\" \"la\" \"parfois\"\n"
     ]
    }
   ],
   "source": [
    "import collections\n",
    "\n",
    "\n",
    "english_words_counter = collections.Counter([word for sentence in english_sentences for word in sentence.split()])\n",
    "french_words_counter = collections.Counter([word for sentence in french_sentences for word in sentence.split()])\n",
    "\n",
    "print('{} English words.'.format(len([word for sentence in english_sentences for word in sentence.split()])))\n",
    "print('{} unique English words.'.format(len(english_words_counter)))\n",
    "print('10 Most common words in the English dataset:')\n",
    "print('\"' + '\" \"'.join(list(zip(*english_words_counter.most_common(10)))[0]) + '\"')\n",
    "print()\n",
    "print('{} French words.'.format(len([word for sentence in french_sentences for word in sentence.split()])))\n",
    "print('{} unique French words.'.format(len(french_words_counter)))\n",
    "print('10 Most common words in the French dataset:')\n",
    "print('\"' + '\" \"'.join(list(zip(*french_words_counter.most_common(10)))[0]) + '\"')"
   ]
  },
  {
   "cell_type": "markdown",
   "metadata": {},
   "source": [
    "For comparison, _Alice's Adventures in Wonderland_ contains 2,766 unique words of a total of 15,500 words.\n",
    "## Preprocess\n",
    "For this project, you won't use text data as input to your model. Instead, you'll convert the text into sequences of integers using the following preprocess methods:\n",
    "1. Tokenize the words into ids\n",
    "2. Add padding to make all the sequences the same length.\n",
    "\n",
    "Time to start preprocessing the data...\n",
    "### Tokenize (IMPLEMENTATION)\n",
    "For a neural network to predict on text data, it first has to be turned into data it can understand. Text data like \"dog\" is a sequence of ASCII character encodings.  Since a neural network is a series of multiplication and addition operations, the input data needs to be number(s).\n",
    "\n",
    "We can turn each character into a number or each word into a number.  These are called character and word ids, respectively.  Character ids are used for character level models that generate text predictions for each character.  A word level model uses word ids that generate text predictions for each word.  Word level models tend to learn better, since they are lower in complexity, so we'll use those.\n",
    "\n",
    "Turn each sentence into a sequence of words ids using Keras's [`Tokenizer`](https://keras.io/preprocessing/text/#tokenizer) function. Use this function to tokenize `english_sentences` and `french_sentences` in the cell below.\n",
    "\n",
    "Running the cell will run `tokenize` on sample data and show output for debugging."
   ]
  },
  {
   "cell_type": "code",
   "execution_count": 53,
   "metadata": {},
   "outputs": [
    {
     "name": "stdout",
     "output_type": "stream",
     "text": [
      "{'short': 4, 'dog': 5, 'my': 7, 'jumps': 8, 'won': 9, 'the': 1, 'jove': 10, 'fox': 16, 'study': 11, 'lexicography': 12, 'prize': 20, 'this': 13, 'by': 6, 'over': 15, 'a': 2, 'quick': 3, 'lazy': 14, 'of': 17, 'brown': 19, 'sentence': 18, 'is': 21}\n",
      "\n",
      "Sequence 1 in x\n",
      "  Input:  The quick brown fox jumps over the lazy dog .\n",
      "  Output: [1, 3, 19, 16, 8, 15, 1, 14, 5]\n",
      "Sequence 2 in x\n",
      "  Input:  By Jove , my quick study of lexicography won a prize .\n",
      "  Output: [6, 10, 7, 3, 11, 17, 12, 9, 2, 20]\n",
      "Sequence 3 in x\n",
      "  Input:  This is a short sentence .\n",
      "  Output: [13, 21, 2, 4, 18]\n"
     ]
    }
   ],
   "source": [
    "import project_tests as tests\n",
    "from keras.preprocessing.text import Tokenizer\n",
    "from keras import backend\n",
    "\n",
    "def tokenize(x):\n",
    "    \"\"\"\n",
    "    Tokenize x\n",
    "    :param x: List of sentences/strings to be tokenized\n",
    "    :return: Tuple of (tokenized x data, tokenizer used to tokenize x)\n",
    "    \"\"\"\n",
    "    # TODO: Implement\n",
    "    tokenizer = Tokenizer(num_words=None,split=\" \",filters='!\"#$%&()*+,-./:;<=>?@[\\\\]^_`{|}~\\t\\n',lower=True,char_level=False)\n",
    "    tokenizer.fit_on_texts(x)\n",
    "    tokenized_sentences_data = tokenizer.texts_to_sequences(x)\n",
    "    return tokenized_sentences_data, tokenizer\n",
    "tests.test_tokenize(tokenize)\n",
    "\n",
    "# Tokenize Example output\n",
    "text_sentences = [\n",
    "    'The quick brown fox jumps over the lazy dog .',\n",
    "    'By Jove , my quick study of lexicography won a prize .',\n",
    "    'This is a short sentence .']\n",
    "text_tokenized, text_tokenizer = tokenize(text_sentences)\n",
    "print(text_tokenizer.word_index)\n",
    "print()\n",
    "for sample_i, (sent, token_sent) in enumerate(zip(text_sentences, text_tokenized)):\n",
    "    print('Sequence {} in x'.format(sample_i + 1))\n",
    "    print('  Input:  {}'.format(sent))\n",
    "    print('  Output: {}'.format(token_sent))"
   ]
  },
  {
   "cell_type": "markdown",
   "metadata": {},
   "source": [
    "### Padding (IMPLEMENTATION)\n",
    "When batching the sequence of word ids together, each sequence needs to be the same length.  Since sentences are dynamic in length, we can add padding to the end of the sequences to make them the same length.\n",
    "\n",
    "Make sure all the English sequences have the same length and all the French sequences have the same length by adding padding to the **end** of each sequence using Keras's [`pad_sequences`](https://keras.io/preprocessing/sequence/#pad_sequences) function."
   ]
  },
  {
   "cell_type": "code",
   "execution_count": 54,
   "metadata": {},
   "outputs": [
    {
     "name": "stdout",
     "output_type": "stream",
     "text": [
      "Sequence 1 in x\n",
      "  Input:  [ 1  3 19 16  8 15  1 14  5]\n",
      "  Output: [ 1  3 19 16  8 15  1 14  5  0]\n",
      "Sequence 2 in x\n",
      "  Input:  [ 6 10  7  3 11 17 12  9  2 20]\n",
      "  Output: [ 6 10  7  3 11 17 12  9  2 20]\n",
      "Sequence 3 in x\n",
      "  Input:  [13 21  2  4 18]\n",
      "  Output: [13 21  2  4 18  0  0  0  0  0]\n"
     ]
    }
   ],
   "source": [
    "import numpy as np\n",
    "from keras.preprocessing.sequence import pad_sequences\n",
    "\n",
    "\n",
    "def pad(x, length=None):\n",
    "    \"\"\"\n",
    "    Pad x\n",
    "    :param x: List of sequences.\n",
    "    :param length: Length to pad the sequence to.  If None, use length of longest sequence in x.\n",
    "    :return: Padded numpy array of sequences\n",
    "    \"\"\"\n",
    "    # TODO: Implement\n",
    "    padded = pad_sequences(x, maxlen = length, dtype='int32', padding='post', truncating='post', value=0)\n",
    "    return padded\n",
    "tests.test_pad(pad)\n",
    "\n",
    "# Pad Tokenized output\n",
    "test_pad = pad(text_tokenized)\n",
    "for sample_i, (token_sent, pad_sent) in enumerate(zip(text_tokenized, test_pad)):\n",
    "    print('Sequence {} in x'.format(sample_i + 1))\n",
    "    print('  Input:  {}'.format(np.array(token_sent)))\n",
    "    print('  Output: {}'.format(pad_sent))"
   ]
  },
  {
   "cell_type": "markdown",
   "metadata": {},
   "source": [
    "### Preprocess Pipeline\n",
    "Your focus for this project is to build neural network architecture, so we won't ask you to create a preprocess pipeline.  Instead, we've provided you with the implementation of the `preprocess` function."
   ]
  },
  {
   "cell_type": "code",
   "execution_count": 55,
   "metadata": {},
   "outputs": [
    {
     "name": "stdout",
     "output_type": "stream",
     "text": [
      "Data Preprocessed\n"
     ]
    }
   ],
   "source": [
    "def preprocess(x, y):\n",
    "    \"\"\"\n",
    "    Preprocess x and y\n",
    "    :param x: Feature List of sentences\n",
    "    :param y: Label List of sentences\n",
    "    :return: Tuple of (Preprocessed x, Preprocessed y, x tokenizer, y tokenizer)\n",
    "    \"\"\"\n",
    "    preprocess_x, x_tk = tokenize(x)\n",
    "    preprocess_y, y_tk = tokenize(y)\n",
    "\n",
    "    preprocess_x = pad(preprocess_x)\n",
    "    preprocess_y = pad(preprocess_y)\n",
    "\n",
    "    # Keras's sparse_categorical_crossentropy function requires the labels to be in 3 dimensions\n",
    "    preprocess_y = preprocess_y.reshape(*preprocess_y.shape, 1)\n",
    "\n",
    "    return preprocess_x, preprocess_y, x_tk, y_tk\n",
    "\n",
    "preproc_english_sentences, preproc_french_sentences, english_tokenizer, french_tokenizer =\\\n",
    "    preprocess(english_sentences, french_sentences)\n",
    "\n",
    "print('Data Preprocessed')"
   ]
  },
  {
   "cell_type": "markdown",
   "metadata": {},
   "source": [
    "## Models\n",
    "In this section, you will experiment with various neural network architectures.\n",
    "You will begin by training four relatively simple architectures.\n",
    "- Model 1 is a simple RNN\n",
    "- Model 2 is a RNN with Embedding\n",
    "- Model 3 is a Bidirectional RNN\n",
    "- Model 4 is an optional Encoder-Decoder RNN\n",
    "\n",
    "After experimenting with the four simple architectures, you will construct a deeper architecture that is designed to outperform all four models.\n",
    "### Ids Back to Text\n",
    "The neural network will be translating the input to words ids, which isn't the final form we want.  We want the French translation.  The function `logits_to_text` will bridge the gab between the logits from the neural network to the French translation.  You'll be using this function to better understand the output of the neural network."
   ]
  },
  {
   "cell_type": "code",
   "execution_count": 56,
   "metadata": {},
   "outputs": [
    {
     "name": "stdout",
     "output_type": "stream",
     "text": [
      "`logits_to_text` function loaded.\n"
     ]
    }
   ],
   "source": [
    "def logits_to_text(logits, tokenizer):\n",
    "    \"\"\"\n",
    "    Turn logits from a neural network into text using the tokenizer\n",
    "    :param logits: Logits from a neural network\n",
    "    :param tokenizer: Keras Tokenizer fit on the labels\n",
    "    :return: String that represents the text of the logits\n",
    "    \"\"\"\n",
    "    index_to_words = {id: word for word, id in tokenizer.word_index.items()}\n",
    "    index_to_words[0] = '<PAD>'\n",
    "\n",
    "    return ' '.join([index_to_words[prediction] for prediction in np.argmax(logits, 1)])\n",
    "\n",
    "print('`logits_to_text` function loaded.')"
   ]
  },
  {
   "cell_type": "markdown",
   "metadata": {},
   "source": [
    "### Model 1: RNN (IMPLEMENTATION)\n",
    "![RNN](images/rnn.png)\n",
    "A basic RNN model is a good baseline for sequence data.  In this model, you'll build a RNN that translates English to French."
   ]
  },
  {
   "cell_type": "code",
   "execution_count": 58,
   "metadata": {},
   "outputs": [
    {
     "name": "stdout",
     "output_type": "stream",
     "text": [
      "_________________________________________________________________\n",
      "Layer (type)                 Output Shape              Param #   \n",
      "=================================================================\n",
      "gru_45 (GRU)                 (None, 21, 128)           49920     \n",
      "_________________________________________________________________\n",
      "time_distributed_81 (TimeDis (None, 21, 512)           66048     \n",
      "_________________________________________________________________\n",
      "dropout_41 (Dropout)         (None, 21, 512)           0         \n",
      "_________________________________________________________________\n",
      "time_distributed_82 (TimeDis (None, 21, 345)           176985    \n",
      "=================================================================\n",
      "Total params: 292,953.0\n",
      "Trainable params: 292,953.0\n",
      "Non-trainable params: 0.0\n",
      "_________________________________________________________________\n",
      "None\n",
      "Train on 110288 samples, validate on 27573 samples\n",
      "Epoch 1/10\n",
      "110288/110288 [==============================] - 220s - loss: 1.4142 - sparse_categorical_accuracy: 0.6145 - val_loss: 1.0862 - val_sparse_categorical_accuracy: 0.6622\n",
      "Epoch 2/10\n",
      "110288/110288 [==============================] - 229s - loss: 1.0752 - sparse_categorical_accuracy: 0.6649 - val_loss: 0.9823 - val_sparse_categorical_accuracy: 0.6926\n",
      "Epoch 3/10\n",
      "110288/110288 [==============================] - 227s - loss: 0.9945 - sparse_categorical_accuracy: 0.6807 - val_loss: 0.9079 - val_sparse_categorical_accuracy: 0.7029\n",
      "Epoch 4/10\n",
      "110288/110288 [==============================] - 225s - loss: 0.9342 - sparse_categorical_accuracy: 0.6966 - val_loss: 0.8633 - val_sparse_categorical_accuracy: 0.7147\n",
      "Epoch 5/10\n",
      "110288/110288 [==============================] - 226s - loss: 0.8776 - sparse_categorical_accuracy: 0.7126 - val_loss: 0.8217 - val_sparse_categorical_accuracy: 0.7306\n",
      "Epoch 6/10\n",
      "110288/110288 [==============================] - 228s - loss: 0.8289 - sparse_categorical_accuracy: 0.7278 - val_loss: 0.7713 - val_sparse_categorical_accuracy: 0.7493\n",
      "Epoch 7/10\n",
      "110288/110288 [==============================] - 230s - loss: 0.7867 - sparse_categorical_accuracy: 0.7414 - val_loss: 0.7250 - val_sparse_categorical_accuracy: 0.7631\n",
      "Epoch 8/10\n",
      "110288/110288 [==============================] - 235s - loss: 0.7521 - sparse_categorical_accuracy: 0.7534 - val_loss: 0.6957 - val_sparse_categorical_accuracy: 0.7743\n",
      "Epoch 9/10\n",
      "110288/110288 [==============================] - 228s - loss: 0.7280 - sparse_categorical_accuracy: 0.7619 - val_loss: 0.6977 - val_sparse_categorical_accuracy: 0.7712\n",
      "Epoch 10/10\n",
      "110288/110288 [==============================] - 227s - loss: 0.7062 - sparse_categorical_accuracy: 0.7694 - val_loss: 0.6394 - val_sparse_categorical_accuracy: 0.7946\n",
      "new jersey est parfois calme en mois et il est neigeux neigeux avril <PAD> <PAD> <PAD> <PAD> <PAD> <PAD> <PAD> <PAD>\n",
      "['new jersey is sometimes quiet during autumn , and it is snowy in april .']\n",
      "[\"new jersey est parfois calme pendant l' automne , et il est neigeux en avril .\"]\n"
     ]
    }
   ],
   "source": [
    "from keras.layers import GRU, Input, Dense, TimeDistributed, Dropout\n",
    "from keras.models import Model, Sequential\n",
    "from keras.layers import Activation\n",
    "from keras.optimizers import Adam\n",
    "from keras.losses import sparse_categorical_crossentropy\n",
    "\n",
    "\n",
    "def simple_model(input_shape, output_sequence_length, english_vocab_size, french_vocab_size):\n",
    "    \"\"\"\n",
    "    Build and train a basic RNN on x and y\n",
    "    :param input_shape: Tuple of input shape\n",
    "    :param output_sequence_length: Length of output sequence\n",
    "    :param english_vocab_size: Number of unique English words in the dataset\n",
    "    :param french_vocab_size: Number of unique French words in the dataset\n",
    "    :return: Keras model built, but not trained\n",
    "    \"\"\"\n",
    "    # TODO: Build the layers\n",
    "    learning_rate = 0.001\n",
    "    model = Sequential()\n",
    "    model.add(GRU(128, input_shape=input_shape[1:], return_sequences=True))\n",
    "    model.add(TimeDistributed(Dense(512, activation='tanh')))\n",
    "    model.add(Dropout(0.5))\n",
    "    model.add(TimeDistributed(Dense(french_vocab_size, activation='softmax'))) \n",
    "    model.compile(loss=sparse_categorical_crossentropy,optimizer=Adam(learning_rate),metrics=['sparse_categorical_accuracy'])\n",
    "    return model\n",
    "tests.test_simple_model(simple_model)\n",
    "\n",
    "\n",
    "# Reshaping the input to work with a basic RNN\n",
    "tmp_x = pad(preproc_english_sentences, preproc_french_sentences.shape[1])\n",
    "tmp_x = tmp_x.reshape((-1, preproc_french_sentences.shape[-2], 1))\n",
    "\n",
    "# Train the neural network\n",
    "simple_rnn_model = simple_model(\n",
    "    tmp_x.shape,\n",
    "    preproc_french_sentences.shape[1],\n",
    "    len(english_tokenizer.word_index)+1,\n",
    "    len(french_tokenizer.word_index)+1)\n",
    "print(simple_rnn_model.summary())\n",
    "simple_rnn_model.fit(tmp_x, preproc_french_sentences, batch_size=64, epochs=10, validation_split=0.2)\n",
    "\n",
    "# Print prediction(s)\n",
    "print(logits_to_text(simple_rnn_model.predict(tmp_x[:1])[0], french_tokenizer))\n",
    "print(english_sentences[:1])\n",
    "print(french_sentences[:1])"
   ]
  },
  {
   "cell_type": "markdown",
   "metadata": {},
   "source": [
    "### Model 2: Embedding (IMPLEMENTATION)\n",
    "![RNN](images/embedding.png)\n",
    "You've turned the words into ids, but there's a better representation of a word.  This is called word embeddings.  An embedding is a vector representation of the word that is close to similar words in n-dimensional space, where the n represents the size of the embedding vectors.\n",
    "\n",
    "In this model, you'll create a RNN model using embedding."
   ]
  },
  {
   "cell_type": "code",
   "execution_count": 59,
   "metadata": {},
   "outputs": [
    {
     "name": "stdout",
     "output_type": "stream",
     "text": [
      "_________________________________________________________________\n",
      "Layer (type)                 Output Shape              Param #   \n",
      "=================================================================\n",
      "embedding_2 (Embedding)      (None, 21, 128)           25600     \n",
      "_________________________________________________________________\n",
      "gru_47 (GRU)                 (None, 21, 128)           98688     \n",
      "_________________________________________________________________\n",
      "time_distributed_85 (TimeDis (None, 21, 512)           66048     \n",
      "_________________________________________________________________\n",
      "dropout_43 (Dropout)         (None, 21, 512)           0         \n",
      "_________________________________________________________________\n",
      "time_distributed_86 (TimeDis (None, 21, 345)           176985    \n",
      "=================================================================\n",
      "Total params: 367,321.0\n",
      "Trainable params: 367,321.0\n",
      "Non-trainable params: 0.0\n",
      "_________________________________________________________________\n",
      "None\n",
      "Train on 110288 samples, validate on 27573 samples\n",
      "Epoch 1/10\n",
      "110288/110288 [==============================] - 229s - loss: 0.8494 - sparse_categorical_accuracy: 0.7754 - val_loss: 0.3919 - val_sparse_categorical_accuracy: 0.8730\n",
      "Epoch 2/10\n",
      "110288/110288 [==============================] - 224s - loss: 0.3704 - sparse_categorical_accuracy: 0.8800 - val_loss: 0.2949 - val_sparse_categorical_accuracy: 0.9027\n",
      "Epoch 3/10\n",
      "110288/110288 [==============================] - 226s - loss: 0.2979 - sparse_categorical_accuracy: 0.9027 - val_loss: 0.2567 - val_sparse_categorical_accuracy: 0.9140\n",
      "Epoch 4/10\n",
      "110288/110288 [==============================] - 224s - loss: 0.2644 - sparse_categorical_accuracy: 0.9130 - val_loss: 0.2389 - val_sparse_categorical_accuracy: 0.9201\n",
      "Epoch 5/10\n",
      "110288/110288 [==============================] - 222s - loss: 0.2451 - sparse_categorical_accuracy: 0.9187 - val_loss: 0.2262 - val_sparse_categorical_accuracy: 0.9245\n",
      "Epoch 6/10\n",
      "110288/110288 [==============================] - 220s - loss: 0.2317 - sparse_categorical_accuracy: 0.9228 - val_loss: 0.2211 - val_sparse_categorical_accuracy: 0.9264\n",
      "Epoch 7/10\n",
      "110288/110288 [==============================] - 221s - loss: 0.2231 - sparse_categorical_accuracy: 0.9250 - val_loss: 0.2062 - val_sparse_categorical_accuracy: 0.9296\n",
      "Epoch 8/10\n",
      "110288/110288 [==============================] - 221s - loss: 0.2161 - sparse_categorical_accuracy: 0.9272 - val_loss: 0.2064 - val_sparse_categorical_accuracy: 0.9298\n",
      "Epoch 9/10\n",
      "110288/110288 [==============================] - 224s - loss: 0.2113 - sparse_categorical_accuracy: 0.9284 - val_loss: 0.2036 - val_sparse_categorical_accuracy: 0.9310\n",
      "Epoch 10/10\n",
      "110288/110288 [==============================] - 222s - loss: 0.2057 - sparse_categorical_accuracy: 0.9300 - val_loss: 0.1974 - val_sparse_categorical_accuracy: 0.9327\n",
      "new jersey est parfois calme en l' automne et il est neigeux en avril <PAD> <PAD> <PAD> <PAD> <PAD> <PAD> <PAD>\n",
      "['new jersey is sometimes quiet during autumn , and it is snowy in april .']\n",
      "[\"new jersey est parfois calme pendant l' automne , et il est neigeux en avril .\"]\n"
     ]
    }
   ],
   "source": [
    "from keras.layers.embeddings import Embedding\n",
    "\n",
    "\n",
    "def embed_model(input_shape, output_sequence_length, english_vocab_size, french_vocab_size):\n",
    "    \"\"\"\n",
    "    Build and train a RNN model using word embedding on x and y\n",
    "    :param input_shape: Tuple of input shape\n",
    "    :param output_sequence_length: Length of output sequence\n",
    "    :param english_vocab_size: Number of unique English words in the dataset\n",
    "    :param french_vocab_size: Number of unique French words in the dataset\n",
    "    :return: Keras model built, but not trained\n",
    "    \"\"\"\n",
    "    # TODO: Implement\n",
    "    learning_rate = 0.001\n",
    "    model = Sequential()\n",
    "    model.add(Embedding(english_vocab_size, 128, input_length=input_shape[1],input_shape=input_shape[1:]))\n",
    "    model.add(GRU(128, return_sequences=True))\n",
    "    model.add(TimeDistributed(Dense(512, activation='tanh')))\n",
    "    model.add(Dropout(0.5))\n",
    "    model.add(TimeDistributed(Dense(french_vocab_size, activation='softmax')))\n",
    "    model.compile(loss=sparse_categorical_crossentropy, optimizer=Adam(learning_rate), metrics=['sparse_categorical_accuracy'])\n",
    "    return model\n",
    "tests.test_embed_model(embed_model)\n",
    "\n",
    "\n",
    "# TODO: Reshape the input\n",
    "tmp_x = pad(preproc_english_sentences, preproc_french_sentences.shape[1])\n",
    "tmp_x = tmp_x.reshape((-1, preproc_french_sentences.shape[-2]))\n",
    "\n",
    "# TODO: Train the neural network\n",
    "embed_rnn_model = embed_model(tmp_x.shape, preproc_french_sentences.shape[1], len(english_tokenizer.word_index)+1, len(french_tokenizer.word_index)+1)\n",
    "print(embed_rnn_model.summary())\n",
    "embed_rnn_model.fit(tmp_x, preproc_french_sentences, batch_size=64, epochs=10, validation_split=0.2)\n",
    "# TODO: Print prediction(s)\n",
    "print(logits_to_text(embed_rnn_model.predict(tmp_x[:1])[0], french_tokenizer))\n",
    "print(english_sentences[:1])\n",
    "print(french_sentences[:1])"
   ]
  },
  {
   "cell_type": "markdown",
   "metadata": {},
   "source": [
    "### Model 3: Bidirectional RNNs (IMPLEMENTATION)\n",
    "![RNN](images/bidirectional.png)\n",
    "One restriction of a RNN is that it can't see the future input, only the past.  This is where bidirectional recurrent neural networks come in.  They are able to see the future data."
   ]
  },
  {
   "cell_type": "code",
   "execution_count": 60,
   "metadata": {},
   "outputs": [
    {
     "name": "stdout",
     "output_type": "stream",
     "text": [
      "_________________________________________________________________\n",
      "Layer (type)                 Output Shape              Param #   \n",
      "=================================================================\n",
      "bidirectional_2 (Bidirection (None, 21, 256)           99840     \n",
      "_________________________________________________________________\n",
      "time_distributed_89 (TimeDis (None, 21, 512)           131584    \n",
      "_________________________________________________________________\n",
      "dropout_45 (Dropout)         (None, 21, 512)           0         \n",
      "_________________________________________________________________\n",
      "time_distributed_90 (TimeDis (None, 21, 345)           176985    \n",
      "=================================================================\n",
      "Total params: 408,409.0\n",
      "Trainable params: 408,409.0\n",
      "Non-trainable params: 0.0\n",
      "_________________________________________________________________\n",
      "None\n",
      "Train on 110288 samples, validate on 27573 samples\n",
      "Epoch 1/10\n",
      "110288/110288 [==============================] - 278s - loss: 1.3023 - sparse_categorical_accuracy: 0.6359 - val_loss: 1.0013 - val_sparse_categorical_accuracy: 0.6796\n",
      "Epoch 2/10\n",
      "110288/110288 [==============================] - 276s - loss: 0.9799 - sparse_categorical_accuracy: 0.6832 - val_loss: 0.8670 - val_sparse_categorical_accuracy: 0.7064\n",
      "Epoch 3/10\n",
      "110288/110288 [==============================] - 276s - loss: 0.8829 - sparse_categorical_accuracy: 0.7028 - val_loss: 0.7849 - val_sparse_categorical_accuracy: 0.7302\n",
      "Epoch 4/10\n",
      "110288/110288 [==============================] - 276s - loss: 0.7977 - sparse_categorical_accuracy: 0.7285 - val_loss: 0.6869 - val_sparse_categorical_accuracy: 0.7663\n",
      "Epoch 5/10\n",
      "110288/110288 [==============================] - 276s - loss: 0.7252 - sparse_categorical_accuracy: 0.7541 - val_loss: 0.6569 - val_sparse_categorical_accuracy: 0.7798\n",
      "Epoch 6/10\n",
      "110288/110288 [==============================] - 277s - loss: 0.6779 - sparse_categorical_accuracy: 0.7712 - val_loss: 0.5949 - val_sparse_categorical_accuracy: 0.8032\n",
      "Epoch 7/10\n",
      "110288/110288 [==============================] - 276s - loss: 0.6401 - sparse_categorical_accuracy: 0.7854 - val_loss: 0.5598 - val_sparse_categorical_accuracy: 0.8187\n",
      "Epoch 8/10\n",
      "110288/110288 [==============================] - 276s - loss: 0.6140 - sparse_categorical_accuracy: 0.7948 - val_loss: 0.5375 - val_sparse_categorical_accuracy: 0.8206\n",
      "Epoch 9/10\n",
      "110288/110288 [==============================] - 276s - loss: 0.5905 - sparse_categorical_accuracy: 0.8033 - val_loss: 0.5209 - val_sparse_categorical_accuracy: 0.8258\n",
      "Epoch 10/10\n",
      "110288/110288 [==============================] - 276s - loss: 0.5698 - sparse_categorical_accuracy: 0.8104 - val_loss: 0.5236 - val_sparse_categorical_accuracy: 0.8229\n",
      "new jersey est parfois parfois en l' de il est neigeux en avril en avril <PAD> <PAD> <PAD> <PAD> <PAD> <PAD>\n",
      "['new jersey is sometimes quiet during autumn , and it is snowy in april .']\n",
      "[\"new jersey est parfois calme pendant l' automne , et il est neigeux en avril .\"]\n"
     ]
    }
   ],
   "source": [
    "from keras.layers import Bidirectional\n",
    "\n",
    "\n",
    "def bd_model(input_shape, output_sequence_length, english_vocab_size, french_vocab_size):\n",
    "    \"\"\"\n",
    "    Build and train a bidirectional RNN model on x and y\n",
    "    :param input_shape: Tuple of input shape\n",
    "    :param output_sequence_length: Length of output sequence\n",
    "    :param english_vocab_size: Number of unique English words in the dataset\n",
    "    :param french_vocab_size: Number of unique French words in the dataset\n",
    "    :return: Keras model built, but not trained\n",
    "    \"\"\"\n",
    "    # TODO: Implement\n",
    "    learning_rate = 0.001\n",
    "    model = Sequential()\n",
    "    model.add(Bidirectional(GRU(128, return_sequences=True), input_shape=input_shape[1:]))\n",
    "    model.add(TimeDistributed(Dense(512, activation='tanh')))\n",
    "    model.add(Dropout(0.5))\n",
    "    model.add(TimeDistributed(Dense(french_vocab_size, activation='softmax')))\n",
    "    model.compile(loss=sparse_categorical_crossentropy, optimizer=Adam(learning_rate), metrics=['sparse_categorical_accuracy'])\n",
    "    return model\n",
    "tests.test_bd_model(bd_model)\n",
    "\n",
    "\n",
    "# TODO: Train and Print prediction(s)\n",
    "tmp_x = pad(preproc_english_sentences, preproc_french_sentences.shape[1])\n",
    "tmp_x = tmp_x.reshape((-1, preproc_french_sentences.shape[-2], 1))\n",
    "bd_rnn_model = bd_model(tmp_x.shape, preproc_french_sentences.shape[1], len(english_tokenizer.word_index)+1, len(french_tokenizer.word_index)+1)\n",
    "print(bd_rnn_model.summary())\n",
    "bd_rnn_model.fit(tmp_x, preproc_french_sentences, batch_size=64, epochs=10, validation_split=0.2)\n",
    "print(logits_to_text(bd_rnn_model.predict(tmp_x[:1])[0], french_tokenizer))\n",
    "print(english_sentences[:1])\n",
    "print(french_sentences[:1])"
   ]
  },
  {
   "cell_type": "markdown",
   "metadata": {},
   "source": [
    "### Model 4: Encoder-Decoder (OPTIONAL)\n",
    "Time to look at encoder-decoder models.  This model is made up of an encoder and decoder. The encoder creates a matrix representation of the sentence.  The decoder takes this matrix as input and predicts the translation as output.\n",
    "\n",
    "Create an encoder-decoder model in the cell below."
   ]
  },
  {
   "cell_type": "code",
   "execution_count": 61,
   "metadata": {},
   "outputs": [
    {
     "name": "stdout",
     "output_type": "stream",
     "text": [
      "_________________________________________________________________\n",
      "Layer (type)                 Output Shape              Param #   \n",
      "=================================================================\n",
      "gru_52 (GRU)                 (None, 128)               49920     \n",
      "_________________________________________________________________\n",
      "repeat_vector_2 (RepeatVecto (None, 21, 128)           0         \n",
      "_________________________________________________________________\n",
      "gru_53 (GRU)                 (None, 21, 128)           98688     \n",
      "_________________________________________________________________\n",
      "time_distributed_93 (TimeDis (None, 21, 512)           66048     \n",
      "_________________________________________________________________\n",
      "dropout_47 (Dropout)         (None, 21, 512)           0         \n",
      "_________________________________________________________________\n",
      "time_distributed_94 (TimeDis (None, 21, 345)           176985    \n",
      "=================================================================\n",
      "Total params: 391,641.0\n",
      "Trainable params: 391,641.0\n",
      "Non-trainable params: 0.0\n",
      "_________________________________________________________________\n",
      "None\n",
      "Train on 110288 samples, validate on 27573 samples\n",
      "Epoch 1/10\n",
      "110288/110288 [==============================] - 309s - loss: 1.5314 - sparse_categorical_accuracy: 0.5980 - val_loss: 1.2409 - val_sparse_categorical_accuracy: 0.6431\n",
      "Epoch 2/10\n",
      "110288/110288 [==============================] - 309s - loss: 1.1391 - sparse_categorical_accuracy: 0.6711 - val_loss: 0.9979 - val_sparse_categorical_accuracy: 0.7063\n",
      "Epoch 3/10\n",
      "110288/110288 [==============================] - 310s - loss: 0.9721 - sparse_categorical_accuracy: 0.7074 - val_loss: 0.8846 - val_sparse_categorical_accuracy: 0.7215\n",
      "Epoch 4/10\n",
      "110288/110288 [==============================] - 309s - loss: 0.8898 - sparse_categorical_accuracy: 0.7196 - val_loss: 0.8209 - val_sparse_categorical_accuracy: 0.7332\n",
      "Epoch 5/10\n",
      "110288/110288 [==============================] - 308s - loss: 0.8260 - sparse_categorical_accuracy: 0.7311 - val_loss: 0.7439 - val_sparse_categorical_accuracy: 0.7523\n",
      "Epoch 6/10\n",
      "110288/110288 [==============================] - 308s - loss: 0.7510 - sparse_categorical_accuracy: 0.7482 - val_loss: 0.6673 - val_sparse_categorical_accuracy: 0.7735\n",
      "Epoch 7/10\n",
      "110288/110288 [==============================] - 310s - loss: 0.6952 - sparse_categorical_accuracy: 0.7627 - val_loss: 0.6081 - val_sparse_categorical_accuracy: 0.7869\n",
      "Epoch 8/10\n",
      "110288/110288 [==============================] - 309s - loss: 0.6510 - sparse_categorical_accuracy: 0.7745 - val_loss: 0.5919 - val_sparse_categorical_accuracy: 0.7881\n",
      "Epoch 9/10\n",
      "110288/110288 [==============================] - 311s - loss: 0.6172 - sparse_categorical_accuracy: 0.7842 - val_loss: 0.5523 - val_sparse_categorical_accuracy: 0.8042\n",
      "Epoch 10/10\n",
      "110288/110288 [==============================] - 316s - loss: 0.5980 - sparse_categorical_accuracy: 0.7905 - val_loss: 0.5447 - val_sparse_categorical_accuracy: 0.8072\n",
      "new jersey est parfois chaud au l' automne il est et en en <PAD> <PAD> <PAD> <PAD> <PAD> <PAD> <PAD> <PAD>\n",
      "['new jersey is sometimes quiet during autumn , and it is snowy in april .']\n",
      "[\"new jersey est parfois calme pendant l' automne , et il est neigeux en avril .\"]\n"
     ]
    }
   ],
   "source": [
    "from keras.layers import RepeatVector\n",
    "\n",
    "\n",
    "def encdec_model(input_shape, output_sequence_length, english_vocab_size, french_vocab_size):\n",
    "    \"\"\"\n",
    "    Build and train an encoder-decoder model on x and y\n",
    "    :param input_shape: Tuple of input shape\n",
    "    :param output_sequence_length: Length of output sequence\n",
    "    :param english_vocab_size: Number of unique English words in the dataset\n",
    "    :param french_vocab_size: Number of unique French words in the dataset\n",
    "    :return: Keras model built, but not trained\n",
    "    \"\"\"\n",
    "    # OPTIONAL: Implement\n",
    "    learning_rate = 0.001\n",
    "    model = Sequential()\n",
    "    model.add(GRU(128, input_shape=input_shape[1:], go_backwards=True))\n",
    "    model.add(RepeatVector(output_sequence_length))\n",
    "    model.add(GRU(128, return_sequences=True))\n",
    "    model.add(TimeDistributed(Dense(512, activation='tanh')))\n",
    "    model.add(Dropout(0.5))\n",
    "    model.add(TimeDistributed(Dense(french_vocab_size, activation='softmax')))\n",
    "    model.compile(loss=sparse_categorical_crossentropy, optimizer=Adam(learning_rate), metrics=['sparse_categorical_accuracy'])\n",
    "    return model\n",
    "tests.test_encdec_model(encdec_model)\n",
    "\n",
    "# OPTIONAL: Train and Print prediction(s)\n",
    "tmp_x = pad(preproc_english_sentences, preproc_french_sentences.shape[1])\n",
    "tmp_x = tmp_x.reshape((-1, preproc_french_sentences.shape[-2], 1))\n",
    "encdec_rnn_model = encdec_model(tmp_x.shape, preproc_french_sentences.shape[1], len(english_tokenizer.word_index)+1, len(french_tokenizer.word_index)+1)\n",
    "print(encdec_rnn_model.summary())\n",
    "encdec_rnn_model.fit(tmp_x, preproc_french_sentences, batch_size=64, epochs=10, validation_split=0.2)\n",
    "print(logits_to_text(encdec_rnn_model.predict(tmp_x[:1])[0], french_tokenizer))\n",
    "print(english_sentences[:1])\n",
    "print(french_sentences[:1])"
   ]
  },
  {
   "cell_type": "markdown",
   "metadata": {},
   "source": [
    "### Model 5: Custom (IMPLEMENTATION)\n",
    "Use everything you learned from the previous models to create a model that incorporates embedding and a bidirectional rnn into one model."
   ]
  },
  {
   "cell_type": "code",
   "execution_count": 62,
   "metadata": {},
   "outputs": [
    {
     "name": "stdout",
     "output_type": "stream",
     "text": [
      "Final Model Loaded\n"
     ]
    }
   ],
   "source": [
    "def model_final(input_shape, output_sequence_length, english_vocab_size, french_vocab_size):\n",
    "    \"\"\"\n",
    "    Build and train a model that incorporates embedding, encoder-decoder, and bidirectional RNN on x and y\n",
    "    :param input_shape: Tuple of input shape\n",
    "    :param output_sequence_length: Length of output sequence\n",
    "    :param english_vocab_size: Number of unique English words in the dataset\n",
    "    :param french_vocab_size: Number of unique French words in the dataset\n",
    "    :return: Keras model built, but not trained\n",
    "    \"\"\"\n",
    "    # TODO: Implement\n",
    "    learning_rate = 0.001\n",
    "    model = Sequential()\n",
    "    model.add(Embedding(english_vocab_size, 128, input_length=input_shape[1],\n",
    "                         input_shape=input_shape[1:]))\n",
    "    model.add(Bidirectional(GRU(128)))\n",
    "    model.add(RepeatVector(output_sequence_length))\n",
    "    model.add(Bidirectional(GRU(128, return_sequences=True)))\n",
    "    model.add(TimeDistributed(Dense(512, activation='tanh')))\n",
    "    model.add(Dropout(0.5))\n",
    "    model.add(TimeDistributed(Dense(french_vocab_size, activation='softmax')))\n",
    "    model.compile(loss=sparse_categorical_crossentropy, optimizer=Adam(learning_rate),metrics=['sparse_categorical_accuracy'])\n",
    "    return model\n",
    "tests.test_model_final(model_final)\n",
    "\n",
    "print('Final Model Loaded')"
   ]
  },
  {
   "cell_type": "markdown",
   "metadata": {},
   "source": [
    "## Prediction (IMPLEMENTATION)"
   ]
  },
  {
   "cell_type": "code",
   "execution_count": 63,
   "metadata": {},
   "outputs": [
    {
     "name": "stdout",
     "output_type": "stream",
     "text": [
      "_________________________________________________________________\n",
      "Layer (type)                 Output Shape              Param #   \n",
      "=================================================================\n",
      "embedding_4 (Embedding)      (None, 15, 128)           25600     \n",
      "_________________________________________________________________\n",
      "bidirectional_5 (Bidirection (None, 256)               197376    \n",
      "_________________________________________________________________\n",
      "repeat_vector_4 (RepeatVecto (None, 21, 256)           0         \n",
      "_________________________________________________________________\n",
      "bidirectional_6 (Bidirection (None, 21, 256)           295680    \n",
      "_________________________________________________________________\n",
      "time_distributed_97 (TimeDis (None, 21, 512)           131584    \n",
      "_________________________________________________________________\n",
      "dropout_49 (Dropout)         (None, 21, 512)           0         \n",
      "_________________________________________________________________\n",
      "time_distributed_98 (TimeDis (None, 21, 345)           176985    \n",
      "=================================================================\n",
      "Total params: 827,225.0\n",
      "Trainable params: 827,225.0\n",
      "Non-trainable params: 0.0\n",
      "_________________________________________________________________\n",
      "None\n",
      "Train on 110288 samples, validate on 27573 samples\n",
      "Epoch 1/20\n",
      "110288/110288 [==============================] - 446s - loss: 1.3354 - sparse_categorical_accuracy: 0.6540 - val_loss: 0.6825 - val_sparse_categorical_accuracy: 0.7986\n",
      "Epoch 2/20\n",
      "110288/110288 [==============================] - 443s - loss: 0.5380 - sparse_categorical_accuracy: 0.8394 - val_loss: 0.3452 - val_sparse_categorical_accuracy: 0.9011\n",
      "Epoch 3/20\n",
      "110288/110288 [==============================] - 443s - loss: 0.3109 - sparse_categorical_accuracy: 0.9096 - val_loss: 0.2427 - val_sparse_categorical_accuracy: 0.9282\n",
      "Epoch 4/20\n",
      "110288/110288 [==============================] - 443s - loss: 0.2280 - sparse_categorical_accuracy: 0.9337 - val_loss: 0.1540 - val_sparse_categorical_accuracy: 0.9541\n",
      "Epoch 5/20\n",
      "110288/110288 [==============================] - 443s - loss: 0.1862 - sparse_categorical_accuracy: 0.9460 - val_loss: 0.1510 - val_sparse_categorical_accuracy: 0.9562\n",
      "Epoch 6/20\n",
      "110288/110288 [==============================] - 443s - loss: 0.1590 - sparse_categorical_accuracy: 0.9539 - val_loss: 0.1245 - val_sparse_categorical_accuracy: 0.9636\n",
      "Epoch 7/20\n",
      "110288/110288 [==============================] - 443s - loss: 0.1405 - sparse_categorical_accuracy: 0.9596 - val_loss: 0.1146 - val_sparse_categorical_accuracy: 0.9671\n",
      "Epoch 8/20\n",
      "110288/110288 [==============================] - 444s - loss: 0.1256 - sparse_categorical_accuracy: 0.9639 - val_loss: 0.1254 - val_sparse_categorical_accuracy: 0.9655\n",
      "Epoch 9/20\n",
      "110288/110288 [==============================] - 443s - loss: 0.1139 - sparse_categorical_accuracy: 0.9674 - val_loss: 0.0935 - val_sparse_categorical_accuracy: 0.9736\n",
      "Epoch 10/20\n",
      "110288/110288 [==============================] - 443s - loss: 0.1061 - sparse_categorical_accuracy: 0.9699 - val_loss: 0.0954 - val_sparse_categorical_accuracy: 0.9737\n",
      "Epoch 11/20\n",
      "110288/110288 [==============================] - 443s - loss: 0.1002 - sparse_categorical_accuracy: 0.9716 - val_loss: 0.0860 - val_sparse_categorical_accuracy: 0.9756\n",
      "Epoch 12/20\n",
      "110288/110288 [==============================] - 443s - loss: 0.0895 - sparse_categorical_accuracy: 0.9746 - val_loss: 0.0925 - val_sparse_categorical_accuracy: 0.9738\n",
      "Epoch 13/20\n",
      "110288/110288 [==============================] - 443s - loss: 0.0896 - sparse_categorical_accuracy: 0.9748 - val_loss: 0.0749 - val_sparse_categorical_accuracy: 0.9796\n",
      "Epoch 14/20\n",
      "110288/110288 [==============================] - 444s - loss: 0.0788 - sparse_categorical_accuracy: 0.9780 - val_loss: 0.0876 - val_sparse_categorical_accuracy: 0.9763\n",
      "Epoch 15/20\n",
      "110288/110288 [==============================] - 443s - loss: 0.0730 - sparse_categorical_accuracy: 0.9795 - val_loss: 0.0781 - val_sparse_categorical_accuracy: 0.9796\n",
      "Epoch 16/20\n",
      "110288/110288 [==============================] - 443s - loss: 0.0694 - sparse_categorical_accuracy: 0.9804 - val_loss: 0.0748 - val_sparse_categorical_accuracy: 0.9800\n",
      "Epoch 17/20\n",
      "110288/110288 [==============================] - 443s - loss: 0.0679 - sparse_categorical_accuracy: 0.9812 - val_loss: 0.0821 - val_sparse_categorical_accuracy: 0.9787\n",
      "Epoch 18/20\n",
      "110288/110288 [==============================] - 443s - loss: 0.0656 - sparse_categorical_accuracy: 0.9818 - val_loss: 0.0819 - val_sparse_categorical_accuracy: 0.9799\n",
      "Epoch 19/20\n",
      "110288/110288 [==============================] - 444s - loss: 0.0632 - sparse_categorical_accuracy: 0.9826 - val_loss: 0.0705 - val_sparse_categorical_accuracy: 0.9825\n",
      "Epoch 20/20\n",
      "110288/110288 [==============================] - 443s - loss: 0.0583 - sparse_categorical_accuracy: 0.9839 - val_loss: 0.0730 - val_sparse_categorical_accuracy: 0.9812\n",
      "new jersey est parfois calme pendant l' automne et il est neigeux en avril <PAD> <PAD> <PAD> <PAD> <PAD> <PAD> <PAD>\n",
      "Sample 1:\n",
      "il a vu un vieux camion jaune <PAD> <PAD> <PAD> <PAD> <PAD> <PAD> <PAD> <PAD> <PAD> <PAD> <PAD> <PAD> <PAD> <PAD>\n",
      "Il a vu un vieux camion jaune\n",
      "Sample 2:\n",
      "new jersey est parfois calme pendant l' automne et il est neigeux en avril <PAD> <PAD> <PAD> <PAD> <PAD> <PAD> <PAD>\n",
      "new jersey est parfois calme pendant l' automne et il est neigeux en avril <PAD> <PAD> <PAD> <PAD> <PAD> <PAD> <PAD>\n"
     ]
    }
   ],
   "source": [
    "import numpy as np\n",
    "from keras.preprocessing.sequence import pad_sequences\n",
    "\n",
    "\n",
    "def final_predictions(x, y, x_tk, y_tk):\n",
    "    \"\"\"\n",
    "    Gets predictions using the final model\n",
    "    :param x: Preprocessed English data\n",
    "    :param y: Preprocessed French data\n",
    "    :param x_tk: English tokenizer\n",
    "    :param y_tk: French tokenizer\n",
    "    \"\"\"\n",
    "    # TODO: Train neural network using model_final\n",
    "    model = model_final(x.shape,y.shape[1], len(x_tk.word_index)+1, len(y_tk.word_index)+1)\n",
    "    print(model.summary())\n",
    "    model.fit(x, y, batch_size = 64, epochs = 20, validation_split = 0.2)\n",
    "    print(logits_to_text(model.predict(x[:1])[0], y_tk))\n",
    "    ## DON'T EDIT ANYTHING BELOW THIS LINE\n",
    "    y_id_to_word = {value: key for key, value in y_tk.word_index.items()}\n",
    "    y_id_to_word[0] = '<PAD>'\n",
    "\n",
    "    sentence = 'he saw a old yellow truck'\n",
    "    sentence = [x_tk.word_index[word] for word in sentence.split()]\n",
    "    sentence = pad_sequences([sentence], maxlen=x.shape[-1], padding='post')\n",
    "    sentences = np.array([sentence[0], x[0]])\n",
    "    predictions = model.predict(sentences, len(sentences))\n",
    "\n",
    "    print('Sample 1:')\n",
    "    print(' '.join([y_id_to_word[np.argmax(x)] for x in predictions[0]]))\n",
    "    print('Il a vu un vieux camion jaune')\n",
    "    print('Sample 2:')\n",
    "    print(' '.join([y_id_to_word[np.argmax(x)] for x in predictions[1]]))\n",
    "    print(' '.join([y_id_to_word[np.max(x)] for x in y[0]]))\n",
    "\n",
    "\n",
    "final_predictions(preproc_english_sentences, preproc_french_sentences, english_tokenizer, french_tokenizer)"
   ]
  },
  {
   "cell_type": "markdown",
   "metadata": {},
   "source": [
    "## Submission\n",
    "When you are ready to submit your project, do the following steps:\n",
    "1. Ensure you pass all points on the [rubric](https://review.udacity.com/#!/rubrics/1004/view).\n",
    "2. Submit the following in a zip file.\n",
    "  - `helper.py`\n",
    "  - `machine_translation.ipynb`\n",
    "  - `machine_translation.html`\n",
    "    - You can export the notebook by navigating to **File -> Download as -> HTML (.html)**."
   ]
  }
 ],
 "metadata": {
  "kernelspec": {
   "display_name": "Python 3",
   "language": "python",
   "name": "python3"
  },
  "language_info": {
   "codemirror_mode": {
    "name": "ipython",
    "version": 3
   },
   "file_extension": ".py",
   "mimetype": "text/x-python",
   "name": "python",
   "nbconvert_exporter": "python",
   "pygments_lexer": "ipython3",
   "version": "3.5.4"
  }
 },
 "nbformat": 4,
 "nbformat_minor": 1
}
